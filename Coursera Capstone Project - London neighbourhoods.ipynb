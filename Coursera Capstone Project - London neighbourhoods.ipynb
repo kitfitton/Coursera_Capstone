{
 "cells": [
  {
   "cell_type": "markdown",
   "metadata": {},
   "source": [
    "# Capstone Project: The Battle of the Neighbourhoods [London Edition]\n",
    "\n",
    "#### Coursera: Applied Data Science Capstone\n",
    "\n",
    "\n",
    "### Business Problem\n",
    "In this project, we will try to identify the best neighbourhood in London for a family to buy their first home, based on their existing preferences about London neighbourhoods and the budget they have available.\n",
    "\n",
    "London is a large cosmopolitan city with a population of nearly 9 million. There are a number of distinct neighbourhoods in London, each with its own feel and characteristics. \n",
    "\n",
    "Buying a house in London can be challenging, because of high prices and high demand for houses in nice neighbourhoods with good transport connections. We will model a hypothetical family who is currently renting a house in Balham, South London. They'd like to buy their own place in their current neighbourhood, but are unable to because of the high prices. We will use data from the Foursquare API and the K-Means clustering algorithm to identify neighbourhoods that are most similar to where they currently live, but where house prices are lower.\n",
    "\n",
    "The output will be a shortlist of neighbourhoods where the family should consider purchasing a home. Individuals and families who are looking to buy a home in London would be interested in this output.\n",
    "\n",
    "\n",
    "### Data\n",
    "Based on the problem defined above, relevant data for our analysis are as follows:\n",
    "\n",
    "- **House prices by neighbourhood.** We will define neighbourhood as London Electoral Wards. Wards are a useful way to think of neighbourhoods as there is readily available house price data at the Ward level. This data will be sourced from the Office for National Statistics (ONS): https://www.ons.gov.uk/peoplepopulationandcommunity/housing/datasets/medianpricepaidbywardhpssadataset37\n",
    "- **Latitude / longitude data.** The geographical center of each neighbourhood / ward will be generated from the Ward name using Nominatim.\n",
    "- **Information about the amenities in each neighbourhood.** We will use the Foursquare API to generate a list of the most popular points of interest for each neighbourhood, based on the latitude / longitude data described above.\n",
    "\n",
    "To answer the question about where the hypothetical family should consider buying a home, we will:\n",
    "\n",
    "- Download the house price data for each ward in London\n",
    "- Use Nominatim to calculate the geographical centre of each ward\n",
    "- Use the coordinates generated and the Foursquare API to learn about the amenities in each ward\n",
    "- Use K-Means to cluster the wards\n",
    "- Identify suitable wards for the family to consider living in, based on similarities to Balham\n",
    "- Rank these neighbourhoods in order of affordability"
   ]
  },
  {
   "cell_type": "code",
   "execution_count": null,
   "metadata": {},
   "outputs": [],
   "source": []
  }
 ],
 "metadata": {
  "kernelspec": {
   "display_name": "Python 3",
   "language": "python",
   "name": "python3"
  },
  "language_info": {
   "codemirror_mode": {
    "name": "ipython",
    "version": 3
   },
   "file_extension": ".py",
   "mimetype": "text/x-python",
   "name": "python",
   "nbconvert_exporter": "python",
   "pygments_lexer": "ipython3",
   "version": "3.7.7"
  }
 },
 "nbformat": 4,
 "nbformat_minor": 4
}
